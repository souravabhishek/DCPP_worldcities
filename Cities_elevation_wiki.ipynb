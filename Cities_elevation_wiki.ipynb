{
 "cells": [
  {
   "cell_type": "code",
   "execution_count": 89,
   "id": "bc6d0422",
   "metadata": {},
   "outputs": [],
   "source": [
    "import pandas as pd # library for data analysis\n",
    "import requests # library to handle requests\n",
    "from bs4 import BeautifulSoup # library to parse HTML documents"
   ]
  },
  {
   "cell_type": "code",
   "execution_count": 90,
   "id": "3fcbd6d3",
   "metadata": {},
   "outputs": [
    {
     "name": "stdout",
     "output_type": "stream",
     "text": [
      "200\n"
     ]
    }
   ],
   "source": [
    "# get the response in the form of html\n",
    "wikiurl=\"https://en.wikipedia.org/wiki/List_of_cities_with_the_most_skyscrapers\"\n",
    "table_class=\"wikitable sortable jquery-tablesorter\"\n",
    "response=requests.get(wikiurl)\n",
    "print(response.status_code)"
   ]
  },
  {
   "cell_type": "code",
   "execution_count": 91,
   "id": "5272f53e",
   "metadata": {},
   "outputs": [],
   "source": [
    "# parse data from the html into a beautifulsoup object\n",
    "soup = BeautifulSoup(response.text, 'html.parser')\n",
    "skyscrapers=soup.find('table',{'class':\"wikitable\"})"
   ]
  },
  {
   "cell_type": "code",
   "execution_count": 92,
   "id": "8dd81624",
   "metadata": {},
   "outputs": [
    {
     "name": "stdout",
     "output_type": "stream",
     "text": [
      "     Rank           City               Country  Image Number of skyscrapers\n",
      "0       1      Hong Kong                 China    NaN                   503\n",
      "1       2       Shenzhen                 China    NaN                   332\n",
      "2       3  New York City         United States    NaN                   296\n",
      "3       4          Dubai  United Arab Emirates    NaN                   232\n",
      "4       5       Shanghai                 China    NaN                   175\n",
      "..    ...            ...                   ...    ...                   ...\n",
      "97    92=        Colombo             Sri Lanka    NaN                11[13]\n",
      "98    92=       Dongguan                 China    NaN                    11\n",
      "99   100=     Pittsburgh         United States    NaN                    10\n",
      "100  100=       Kawasaki                 Japan    NaN                    10\n",
      "101  100=        Daejeon           South Korea    NaN                    10\n",
      "\n",
      "[102 rows x 5 columns]\n"
     ]
    }
   ],
   "source": [
    "df=pd.read_html(str(skyscrapers))\n",
    "# convert list to dataframe\n",
    "df=pd.DataFrame(df[0])\n",
    "print(df)\n",
    "data = df"
   ]
  },
  {
   "cell_type": "code",
   "execution_count": 93,
   "id": "26f28bd4",
   "metadata": {},
   "outputs": [
    {
     "data": {
      "text/html": [
       "<div>\n",
       "<style scoped>\n",
       "    .dataframe tbody tr th:only-of-type {\n",
       "        vertical-align: middle;\n",
       "    }\n",
       "\n",
       "    .dataframe tbody tr th {\n",
       "        vertical-align: top;\n",
       "    }\n",
       "\n",
       "    .dataframe thead th {\n",
       "        text-align: right;\n",
       "    }\n",
       "</style>\n",
       "<table border=\"1\" class=\"dataframe\">\n",
       "  <thead>\n",
       "    <tr style=\"text-align: right;\">\n",
       "      <th></th>\n",
       "      <th>Rank</th>\n",
       "      <th>City</th>\n",
       "      <th>Country</th>\n",
       "      <th>Image</th>\n",
       "      <th>Number of skyscrapers</th>\n",
       "    </tr>\n",
       "  </thead>\n",
       "  <tbody>\n",
       "    <tr>\n",
       "      <th>0</th>\n",
       "      <td>1</td>\n",
       "      <td>Hong Kong</td>\n",
       "      <td>China</td>\n",
       "      <td>NaN</td>\n",
       "      <td>503</td>\n",
       "    </tr>\n",
       "    <tr>\n",
       "      <th>1</th>\n",
       "      <td>2</td>\n",
       "      <td>Shenzhen</td>\n",
       "      <td>China</td>\n",
       "      <td>NaN</td>\n",
       "      <td>332</td>\n",
       "    </tr>\n",
       "    <tr>\n",
       "      <th>2</th>\n",
       "      <td>3</td>\n",
       "      <td>New York City</td>\n",
       "      <td>United States</td>\n",
       "      <td>NaN</td>\n",
       "      <td>296</td>\n",
       "    </tr>\n",
       "    <tr>\n",
       "      <th>3</th>\n",
       "      <td>4</td>\n",
       "      <td>Dubai</td>\n",
       "      <td>United Arab Emirates</td>\n",
       "      <td>NaN</td>\n",
       "      <td>232</td>\n",
       "    </tr>\n",
       "    <tr>\n",
       "      <th>4</th>\n",
       "      <td>5</td>\n",
       "      <td>Shanghai</td>\n",
       "      <td>China</td>\n",
       "      <td>NaN</td>\n",
       "      <td>175</td>\n",
       "    </tr>\n",
       "  </tbody>\n",
       "</table>\n",
       "</div>"
      ],
      "text/plain": [
       "  Rank           City               Country  Image Number of skyscrapers\n",
       "0    1      Hong Kong                 China    NaN                   503\n",
       "1    2       Shenzhen                 China    NaN                   332\n",
       "2    3  New York City         United States    NaN                   296\n",
       "3    4          Dubai  United Arab Emirates    NaN                   232\n",
       "4    5       Shanghai                 China    NaN                   175"
      ]
     },
     "execution_count": 93,
     "metadata": {},
     "output_type": "execute_result"
    }
   ],
   "source": [
    "data.head()"
   ]
  },
  {
   "cell_type": "code",
   "execution_count": 94,
   "id": "4d91596f",
   "metadata": {},
   "outputs": [
    {
     "name": "stdout",
     "output_type": "stream",
     "text": [
      "            City Number of skyscrapers\n",
      "0      Hong Kong                   503\n",
      "1       Shenzhen                   332\n",
      "2  New York City                   296\n",
      "3          Dubai                   232\n",
      "4       Shanghai                   175\n"
     ]
    }
   ],
   "source": [
    "data = data.drop([\"Rank\", \"Image\",\"Country\"], axis=1)\n",
    "# rename columns for ease\n",
    "print(data.head())"
   ]
  },
  {
   "cell_type": "code",
   "execution_count": 96,
   "id": "cb034421",
   "metadata": {},
   "outputs": [
    {
     "data": {
      "text/html": [
       "<div>\n",
       "<style scoped>\n",
       "    .dataframe tbody tr th:only-of-type {\n",
       "        vertical-align: middle;\n",
       "    }\n",
       "\n",
       "    .dataframe tbody tr th {\n",
       "        vertical-align: top;\n",
       "    }\n",
       "\n",
       "    .dataframe thead th {\n",
       "        text-align: right;\n",
       "    }\n",
       "</style>\n",
       "<table border=\"1\" class=\"dataframe\">\n",
       "  <thead>\n",
       "    <tr style=\"text-align: right;\">\n",
       "      <th></th>\n",
       "      <th>City</th>\n",
       "      <th>Number of skyscrapers</th>\n",
       "    </tr>\n",
       "  </thead>\n",
       "  <tbody>\n",
       "    <tr>\n",
       "      <th>0</th>\n",
       "      <td>Hong Kong</td>\n",
       "      <td>503</td>\n",
       "    </tr>\n",
       "    <tr>\n",
       "      <th>1</th>\n",
       "      <td>Shenzhen</td>\n",
       "      <td>332</td>\n",
       "    </tr>\n",
       "    <tr>\n",
       "      <th>2</th>\n",
       "      <td>New York City</td>\n",
       "      <td>296</td>\n",
       "    </tr>\n",
       "    <tr>\n",
       "      <th>3</th>\n",
       "      <td>Dubai</td>\n",
       "      <td>232</td>\n",
       "    </tr>\n",
       "    <tr>\n",
       "      <th>4</th>\n",
       "      <td>Shanghai</td>\n",
       "      <td>175</td>\n",
       "    </tr>\n",
       "    <tr>\n",
       "      <th>...</th>\n",
       "      <td>...</td>\n",
       "      <td>...</td>\n",
       "    </tr>\n",
       "    <tr>\n",
       "      <th>97</th>\n",
       "      <td>Colombo</td>\n",
       "      <td>11[13]</td>\n",
       "    </tr>\n",
       "    <tr>\n",
       "      <th>98</th>\n",
       "      <td>Dongguan</td>\n",
       "      <td>11</td>\n",
       "    </tr>\n",
       "    <tr>\n",
       "      <th>99</th>\n",
       "      <td>Pittsburgh</td>\n",
       "      <td>10</td>\n",
       "    </tr>\n",
       "    <tr>\n",
       "      <th>100</th>\n",
       "      <td>Kawasaki</td>\n",
       "      <td>10</td>\n",
       "    </tr>\n",
       "    <tr>\n",
       "      <th>101</th>\n",
       "      <td>Daejeon</td>\n",
       "      <td>10</td>\n",
       "    </tr>\n",
       "  </tbody>\n",
       "</table>\n",
       "<p>102 rows × 2 columns</p>\n",
       "</div>"
      ],
      "text/plain": [
       "              City Number of skyscrapers\n",
       "0        Hong Kong                   503\n",
       "1         Shenzhen                   332\n",
       "2    New York City                   296\n",
       "3            Dubai                   232\n",
       "4         Shanghai                   175\n",
       "..             ...                   ...\n",
       "97         Colombo                11[13]\n",
       "98        Dongguan                    11\n",
       "99      Pittsburgh                    10\n",
       "100       Kawasaki                    10\n",
       "101        Daejeon                    10\n",
       "\n",
       "[102 rows x 2 columns]"
      ]
     },
     "execution_count": 96,
     "metadata": {},
     "output_type": "execute_result"
    }
   ],
   "source": [
    "data.head(10)"
   ]
  },
  {
   "cell_type": "code",
   "execution_count": 97,
   "id": "8268cb5b",
   "metadata": {},
   "outputs": [],
   "source": [
    "data.to_excel(\"city_skyscrappers_wiki.xlsx\")"
   ]
  }
 ],
 "metadata": {
  "kernelspec": {
   "display_name": "Python 3",
   "language": "python",
   "name": "python3"
  },
  "language_info": {
   "codemirror_mode": {
    "name": "ipython",
    "version": 3
   },
   "file_extension": ".py",
   "mimetype": "text/x-python",
   "name": "python",
   "nbconvert_exporter": "python",
   "pygments_lexer": "ipython3",
   "version": "3.8.8"
  }
 },
 "nbformat": 4,
 "nbformat_minor": 5
}
